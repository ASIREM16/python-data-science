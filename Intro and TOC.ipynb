{
 "cells": [
  {
   "cell_type": "markdown",
   "metadata": {},
   "source": [
    "<h1 style=\"text-align: center;\">Data Science, the Pythonic Way</h1>"
   ]
  },
  {
   "cell_type": "markdown",
   "metadata": {},
   "source": [
    "### Crash course @FBK on basic Data Science using Python\n",
    "\n",
    "<img src=\"http://forge.fiware.org/plugins/mediawiki/wiki/fiware/images/thumb/4/46/FBK-Logo.png/707px-FBK-Logo.png\" \n",
    "  width=\"15%\" title=\"Fondazione Bruno Kessler\" alt=\"FBK Logo\" />\n",
    "  \n",
    "<img src=\"https://mpba.fbk.eu/sites/mpba.fbk.eu/themes/fbkunit/logo-en.png\" title=\"MPBA\" width=\"30%\" alt=\"MPBA Logo\" />"
   ]
  },
  {
   "cell_type": "markdown",
   "metadata": {},
   "source": [
    "# Goal of this Tutorial\n",
    "\n",
    "- **Introduce the basics of Numpy**, and some more advanced stuff;\n",
    "    - **Provide some concrete examples** where Numpy takes a central role.\n",
    "- **Introduce the basics of Pandas**, and how this differ from numpy\n",
    "- **Introduce the basics of DataViz** using `matplotlib` & `bokeh`\n",
    "- **Introduction to Machine Learning using** `sklearn`"
   ]
  },
  {
   "cell_type": "markdown",
   "metadata": {},
   "source": [
    "# Requirements\n",
    "\n",
    "### ...(so far)"
   ]
  },
  {
   "cell_type": "markdown",
   "metadata": {},
   "source": [
    "This tutorial requires the following packages:\n",
    "\n",
    "- Python 3.4+\n",
    "    - Python 2 should probably work as well but.... who knows :)\n",
    "    - Btw, it is highly recommended to use Python 3!\n",
    "    \n",
    "- `numpy` version 1.11+ http://www.numpy.org/\n",
    "- `scipy` version 0.16+ http://www.scipy.org/\n",
    "- `pandas` version 0.20+ http://pandas.pydata.org\n",
    "- `matplotlib` version 2.0+ http://matplotlib.org/\n",
    "- `jupyter` with **notebook** support http://jupyter.org\n",
    "- `scikit-learn` version 0.19+ http://scikit-learn.org"
   ]
  },
  {
   "cell_type": "markdown",
   "metadata": {},
   "source": [
    "# How to setup your environment"
   ]
  },
  {
   "cell_type": "markdown",
   "metadata": {},
   "source": [
    "## The simplest way"
   ]
  },
  {
   "cell_type": "markdown",
   "metadata": {},
   "source": [
    "The easiest way to get these is to use the [conda](https://store.continuum.io) environment manager. \n",
    "\n",
    "I suggest downloading and installing [miniconda](http://conda.pydata.org/miniconda.html).\n",
    "\n",
    "The following command will install all required packages:\n",
    "\n",
    "    $ conda install numpy scipy matplotlib scikit-learn jupyter pandas\n",
    "    \n",
    "Alternatively, you can download and install the (full-fledged) **Anaconda software distribution**, available from \n",
    "http://www.continuum.io/downloads. \n",
    "\n",
    "These are available for multiple architectures."
   ]
  },
  {
   "cell_type": "markdown",
   "metadata": {},
   "source": [
    "## The \"longest\" way"
   ]
  },
  {
   "cell_type": "markdown",
   "metadata": {},
   "source": [
    "1. Create your **Virtual Environment** (highly suggested)\n",
    "\n",
    "    - `$ python -m venv <DIR>`\n",
    "    - `$ source <DIR>/bin/activate`\n",
    "\n",
    "2. **pip** on the run\n",
    "    - `pip install numpy`\n",
    "    - `pip install scipy`\n",
    "    - `pip install matplotlib`\n",
    "    - `pip install jupyter`\n",
    "    - `pip install pandas`\n",
    "    - `pip install scikit-learn`\n",
    "  "
   ]
  },
  {
   "cell_type": "markdown",
   "metadata": {},
   "source": [
    "### Python Version"
   ]
  },
  {
   "cell_type": "markdown",
   "metadata": {},
   "source": [
    "I'm currently running this tutorial with **Python 3** on **Anaconda*"
   ]
  },
  {
   "cell_type": "code",
   "execution_count": 1,
   "metadata": {},
   "outputs": [
    {
     "name": "stdout",
     "output_type": "stream",
     "text": [
      "Python 3.5.3 :: Anaconda custom (64-bit)\n"
     ]
    }
   ],
   "source": [
    "!python --version"
   ]
  },
  {
   "cell_type": "markdown",
   "metadata": {},
   "source": [
    "# How to test if everything is Up&Running"
   ]
  },
  {
   "cell_type": "markdown",
   "metadata": {},
   "source": [
    "## 1. Try running iPython with notebook support"
   ]
  },
  {
   "cell_type": "markdown",
   "metadata": {},
   "source": [
    "```bash\n",
    "$ jupyter notebook  # run this in your terminal\n",
    "```"
   ]
  },
  {
   "cell_type": "markdown",
   "metadata": {},
   "source": [
    "## 2. Try to import everything"
   ]
  },
  {
   "cell_type": "code",
   "execution_count": 2,
   "metadata": {},
   "outputs": [],
   "source": [
    "import numpy as np\n",
    "import scipy as sp\n",
    "import pandas as pd\n",
    "import matplotlib.pyplot as plt\n",
    "import sklearn"
   ]
  },
  {
   "cell_type": "markdown",
   "metadata": {},
   "source": [
    "## 3. Check Installed Versions \n",
    "\n",
    "In the following my current environment and libraries versions:"
   ]
  },
  {
   "cell_type": "code",
   "execution_count": 3,
   "metadata": {},
   "outputs": [
    {
     "name": "stdout",
     "output_type": "stream",
     "text": [
      "numpy: 1.14.2\n",
      "scipy: 0.19.0\n",
      "matplotlib: 2.0.0\n",
      "scikit-learn: 0.19.1\n",
      "pandas: 0.22.0\n"
     ]
    }
   ],
   "source": [
    "import numpy\n",
    "print('numpy:', numpy.__version__)\n",
    "\n",
    "import scipy\n",
    "print('scipy:', scipy.__version__)\n",
    "\n",
    "import matplotlib\n",
    "print('matplotlib:', matplotlib.__version__)\n",
    "\n",
    "import sklearn\n",
    "print('scikit-learn:', sklearn.__version__)\n",
    "\n",
    "import pandas\n",
    "print('pandas:', pandas.__version__)"
   ]
  },
  {
   "cell_type": "markdown",
   "metadata": {},
   "source": [
    "### 4. Enable the inline visualisation of plots"
   ]
  },
  {
   "cell_type": "code",
   "execution_count": 4,
   "metadata": {},
   "outputs": [],
   "source": [
    "%matplotlib inline"
   ]
  },
  {
   "cell_type": "markdown",
   "metadata": {},
   "source": [
    "<br>\n",
    "<hr>\n",
    "<h1 style=\"text-align: center;\">If everything worked down here, you're ready to start!</h1>"
   ]
  }
 ],
 "metadata": {
  "kernelspec": {
   "display_name": "Python [default]",
   "language": "python",
   "name": "python3"
  },
  "language_info": {
   "codemirror_mode": {
    "name": "ipython",
    "version": 3
   },
   "file_extension": ".py",
   "mimetype": "text/x-python",
   "name": "python",
   "nbconvert_exporter": "python",
   "pygments_lexer": "ipython3",
   "version": "3.5.3"
  },
  "latex_envs": {
   "LaTeX_envs_menu_present": true,
   "autoclose": false,
   "autocomplete": true,
   "bibliofile": "biblio.bib",
   "cite_by": "apalike",
   "current_citInitial": 1,
   "eqLabelWithNumbers": true,
   "eqNumInitial": 1,
   "hotkeys": {
    "equation": "Ctrl-E",
    "itemize": "Ctrl-I"
   },
   "labels_anchors": false,
   "latex_user_defs": false,
   "report_style_numbering": false,
   "user_envs_cfg": false
  },
  "toc": {
   "base_numbering": 1,
   "nav_menu": {},
   "number_sections": true,
   "sideBar": true,
   "skip_h1_title": false,
   "title_cell": "Table of Contents",
   "title_sidebar": "Contents",
   "toc_cell": false,
   "toc_position": {},
   "toc_section_display": true,
   "toc_window_display": false
  }
 },
 "nbformat": 4,
 "nbformat_minor": 2
}
