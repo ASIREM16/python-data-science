{
 "cells": [
  {
   "cell_type": "code",
   "execution_count": 1,
   "metadata": {
    "collapsed": true
   },
   "outputs": [],
   "source": [
    "import pandas as pd\n",
    "import numpy as np"
   ]
  },
  {
   "cell_type": "code",
   "execution_count": 2,
   "metadata": {
    "collapsed": false
   },
   "outputs": [],
   "source": [
    "df = pd.DataFrame(np.random.random((9, 5)),\n",
    "                  index=pd.MultiIndex.from_product([(1, 2, 3), (4, 5, 6)]))"
   ]
  },
  {
   "cell_type": "markdown",
   "metadata": {},
   "source": [
    "## Ambiguous indexing"
   ]
  },
  {
   "cell_type": "code",
   "execution_count": 3,
   "metadata": {
    "collapsed": false
   },
   "outputs": [
    {
     "data": {
      "text/html": [
       "<div>\n",
       "<style scoped>\n",
       "    .dataframe tbody tr th:only-of-type {\n",
       "        vertical-align: middle;\n",
       "    }\n",
       "\n",
       "    .dataframe tbody tr th {\n",
       "        vertical-align: top;\n",
       "    }\n",
       "\n",
       "    .dataframe thead th {\n",
       "        text-align: right;\n",
       "    }\n",
       "</style>\n",
       "<table border=\"1\" class=\"dataframe\">\n",
       "  <thead>\n",
       "    <tr style=\"text-align: right;\">\n",
       "      <th></th>\n",
       "      <th></th>\n",
       "      <th>0</th>\n",
       "      <th>1</th>\n",
       "      <th>2</th>\n",
       "      <th>3</th>\n",
       "      <th>4</th>\n",
       "    </tr>\n",
       "  </thead>\n",
       "  <tbody>\n",
       "    <tr>\n",
       "      <th rowspan=\"3\" valign=\"top\">1</th>\n",
       "      <th>4</th>\n",
       "      <td>0.515475</td>\n",
       "      <td>0.098428</td>\n",
       "      <td>0.996290</td>\n",
       "      <td>0.592944</td>\n",
       "      <td>0.909612</td>\n",
       "    </tr>\n",
       "    <tr>\n",
       "      <th>5</th>\n",
       "      <td>0.381871</td>\n",
       "      <td>0.695997</td>\n",
       "      <td>0.193777</td>\n",
       "      <td>0.505768</td>\n",
       "      <td>0.265996</td>\n",
       "    </tr>\n",
       "    <tr>\n",
       "      <th>6</th>\n",
       "      <td>0.414010</td>\n",
       "      <td>0.516641</td>\n",
       "      <td>0.918541</td>\n",
       "      <td>0.108634</td>\n",
       "      <td>0.481212</td>\n",
       "    </tr>\n",
       "    <tr>\n",
       "      <th rowspan=\"3\" valign=\"top\">2</th>\n",
       "      <th>4</th>\n",
       "      <td>0.917311</td>\n",
       "      <td>0.555556</td>\n",
       "      <td>0.844101</td>\n",
       "      <td>0.642774</td>\n",
       "      <td>0.294767</td>\n",
       "    </tr>\n",
       "    <tr>\n",
       "      <th>5</th>\n",
       "      <td>0.230593</td>\n",
       "      <td>0.151229</td>\n",
       "      <td>0.281512</td>\n",
       "      <td>0.792697</td>\n",
       "      <td>0.456896</td>\n",
       "    </tr>\n",
       "    <tr>\n",
       "      <th>6</th>\n",
       "      <td>0.354455</td>\n",
       "      <td>0.259955</td>\n",
       "      <td>0.379995</td>\n",
       "      <td>0.571561</td>\n",
       "      <td>0.533518</td>\n",
       "    </tr>\n",
       "    <tr>\n",
       "      <th rowspan=\"3\" valign=\"top\">3</th>\n",
       "      <th>4</th>\n",
       "      <td>0.252082</td>\n",
       "      <td>0.988385</td>\n",
       "      <td>0.584813</td>\n",
       "      <td>0.643749</td>\n",
       "      <td>0.388856</td>\n",
       "    </tr>\n",
       "    <tr>\n",
       "      <th>5</th>\n",
       "      <td>0.917416</td>\n",
       "      <td>0.600509</td>\n",
       "      <td>0.587259</td>\n",
       "      <td>0.304810</td>\n",
       "      <td>0.488233</td>\n",
       "    </tr>\n",
       "    <tr>\n",
       "      <th>6</th>\n",
       "      <td>0.972643</td>\n",
       "      <td>0.270921</td>\n",
       "      <td>0.240601</td>\n",
       "      <td>0.409484</td>\n",
       "      <td>0.436605</td>\n",
       "    </tr>\n",
       "  </tbody>\n",
       "</table>\n",
       "</div>"
      ],
      "text/plain": [
       "            0         1         2         3         4\n",
       "1 4  0.515475  0.098428  0.996290  0.592944  0.909612\n",
       "  5  0.381871  0.695997  0.193777  0.505768  0.265996\n",
       "  6  0.414010  0.516641  0.918541  0.108634  0.481212\n",
       "2 4  0.917311  0.555556  0.844101  0.642774  0.294767\n",
       "  5  0.230593  0.151229  0.281512  0.792697  0.456896\n",
       "  6  0.354455  0.259955  0.379995  0.571561  0.533518\n",
       "3 4  0.252082  0.988385  0.584813  0.643749  0.388856\n",
       "  5  0.917416  0.600509  0.587259  0.304810  0.488233\n",
       "  6  0.972643  0.270921  0.240601  0.409484  0.436605"
      ]
     },
     "execution_count": 3,
     "metadata": {},
     "output_type": "execute_result"
    }
   ],
   "source": [
    "df"
   ]
  },
  {
   "cell_type": "code",
   "execution_count": 4,
   "metadata": {
    "collapsed": false
   },
   "outputs": [
    {
     "data": {
      "text/plain": [
       "0    0.515475\n",
       "1    0.098428\n",
       "2    0.996290\n",
       "3    0.592944\n",
       "4    0.909612\n",
       "Name: (1, 4), dtype: float64"
      ]
     },
     "execution_count": 4,
     "metadata": {},
     "output_type": "execute_result"
    }
   ],
   "source": [
    "df.loc[1, 4]"
   ]
  },
  {
   "cell_type": "code",
   "execution_count": 5,
   "metadata": {
    "collapsed": false
   },
   "outputs": [
    {
     "data": {
      "text/plain": [
       "0    0.515475\n",
       "1    0.098428\n",
       "2    0.996290\n",
       "3    0.592944\n",
       "4    0.909612\n",
       "Name: (1, 4), dtype: float64"
      ]
     },
     "execution_count": 5,
     "metadata": {},
     "output_type": "execute_result"
    }
   ],
   "source": [
    "df.loc[(1, 4), :]"
   ]
  },
  {
   "cell_type": "code",
   "execution_count": 6,
   "metadata": {
    "collapsed": false
   },
   "outputs": [
    {
     "data": {
      "text/plain": [
       "4    0.909612\n",
       "5    0.265996\n",
       "6    0.481212\n",
       "Name: 4, dtype: float64"
      ]
     },
     "execution_count": 6,
     "metadata": {},
     "output_type": "execute_result"
    }
   ],
   "source": [
    "df.loc[(1, ), 4]"
   ]
  },
  {
   "cell_type": "markdown",
   "metadata": {},
   "source": [
    "## Lists are not tuples"
   ]
  },
  {
   "cell_type": "code",
   "execution_count": 7,
   "metadata": {
    "collapsed": false
   },
   "outputs": [
    {
     "data": {
      "text/plain": [
       "0.4812122786236285"
      ]
     },
     "execution_count": 7,
     "metadata": {},
     "output_type": "execute_result"
    }
   ],
   "source": [
    "df.loc[(1, 6), 4]"
   ]
  },
  {
   "cell_type": "code",
   "execution_count": 8,
   "metadata": {
    "collapsed": false
   },
   "outputs": [
    {
     "data": {
      "text/plain": [
       "1  4    0.909612\n",
       "   5    0.265996\n",
       "   6    0.481212\n",
       "Name: 4, dtype: float64"
      ]
     },
     "execution_count": 8,
     "metadata": {},
     "output_type": "execute_result"
    }
   ],
   "source": [
    "df.loc[[1, 6], 4]"
   ]
  }
 ],
 "metadata": {
  "kernelspec": {
   "display_name": "Python [default]",
   "language": "python",
   "name": "python3"
  },
  "language_info": {
   "codemirror_mode": {
    "name": "ipython",
    "version": 3
   },
   "file_extension": ".py",
   "mimetype": "text/x-python",
   "name": "python",
   "nbconvert_exporter": "python",
   "pygments_lexer": "ipython3",
   "version": "3.5.3"
  }
 },
 "nbformat": 4,
 "nbformat_minor": 2
}
