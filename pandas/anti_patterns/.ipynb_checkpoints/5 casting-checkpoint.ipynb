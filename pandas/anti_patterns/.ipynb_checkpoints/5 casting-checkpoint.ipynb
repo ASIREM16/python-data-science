{
 "cells": [
  {
   "cell_type": "markdown",
   "metadata": {},
   "source": [
    "# Concatenate"
   ]
  },
  {
   "cell_type": "code",
   "execution_count": 1,
   "metadata": {
    "collapsed": true,
    "deletable": true,
    "editable": true
   },
   "outputs": [],
   "source": [
    "import pandas as pd"
   ]
  },
  {
   "cell_type": "code",
   "execution_count": 2,
   "metadata": {
    "collapsed": false,
    "deletable": true,
    "editable": true
   },
   "outputs": [],
   "source": [
    "s = pd.DataFrame(-1, index=range(2), columns=range(1000))"
   ]
  },
  {
   "cell_type": "code",
   "execution_count": 3,
   "metadata": {
    "collapsed": false,
    "scrolled": true
   },
   "outputs": [
    {
     "data": {
      "text/plain": [
       "0      int64\n",
       "1      int64\n",
       "2      int64\n",
       "3      int64\n",
       "4      int64\n",
       "5      int64\n",
       "6      int64\n",
       "7      int64\n",
       "8      int64\n",
       "9      int64\n",
       "10     int64\n",
       "11     int64\n",
       "12     int64\n",
       "13     int64\n",
       "14     int64\n",
       "15     int64\n",
       "16     int64\n",
       "17     int64\n",
       "18     int64\n",
       "19     int64\n",
       "20     int64\n",
       "21     int64\n",
       "22     int64\n",
       "23     int64\n",
       "24     int64\n",
       "25     int64\n",
       "26     int64\n",
       "27     int64\n",
       "28     int64\n",
       "29     int64\n",
       "       ...  \n",
       "970    int64\n",
       "971    int64\n",
       "972    int64\n",
       "973    int64\n",
       "974    int64\n",
       "975    int64\n",
       "976    int64\n",
       "977    int64\n",
       "978    int64\n",
       "979    int64\n",
       "980    int64\n",
       "981    int64\n",
       "982    int64\n",
       "983    int64\n",
       "984    int64\n",
       "985    int64\n",
       "986    int64\n",
       "987    int64\n",
       "988    int64\n",
       "989    int64\n",
       "990    int64\n",
       "991    int64\n",
       "992    int64\n",
       "993    int64\n",
       "994    int64\n",
       "995    int64\n",
       "996    int64\n",
       "997    int64\n",
       "998    int64\n",
       "999    int64\n",
       "Length: 1000, dtype: object"
      ]
     },
     "execution_count": 3,
     "metadata": {},
     "output_type": "execute_result"
    }
   ],
   "source": [
    "s.dtypes"
   ]
  },
  {
   "cell_type": "code",
   "execution_count": 4,
   "metadata": {
    "collapsed": true,
    "deletable": true,
    "editable": true
   },
   "outputs": [],
   "source": [
    "def is_even(i):\n",
    "    return i % 2 == 0"
   ]
  },
  {
   "cell_type": "code",
   "execution_count": 5,
   "metadata": {
    "collapsed": true,
    "deletable": true,
    "editable": true
   },
   "outputs": [],
   "source": [
    "def fill_series1(s):\n",
    "    mys = s.copy()\n",
    "    for i in s.columns:\n",
    "        mys.loc[0, i] = mys.loc[0, i] + is_even(i)\n",
    "    return mys"
   ]
  },
  {
   "cell_type": "code",
   "execution_count": 6,
   "metadata": {
    "collapsed": true,
    "deletable": true,
    "editable": true
   },
   "outputs": [],
   "source": [
    "def fill_series2(s):\n",
    "    mys = s.copy()\n",
    "    for i in s.columns:\n",
    "        mys.loc[0, i] = is_even(i)\n",
    "    return mys"
   ]
  },
  {
   "cell_type": "code",
   "execution_count": 7,
   "metadata": {
    "collapsed": false,
    "deletable": true,
    "editable": true
   },
   "outputs": [
    {
     "name": "stdout",
     "output_type": "stream",
     "text": [
      "1 loop, best of 3: 259 ms per loop\n"
     ]
    }
   ],
   "source": [
    "%timeit fill_series1(s)"
   ]
  },
  {
   "cell_type": "code",
   "execution_count": 8,
   "metadata": {
    "collapsed": false,
    "deletable": true,
    "editable": true
   },
   "outputs": [
    {
     "name": "stdout",
     "output_type": "stream",
     "text": [
      "1 loop, best of 3: 860 ms per loop\n"
     ]
    }
   ],
   "source": [
    "%timeit fill_series2(s)"
   ]
  },
  {
   "cell_type": "code",
   "execution_count": 9,
   "metadata": {
    "collapsed": false,
    "deletable": true,
    "editable": true
   },
   "outputs": [
    {
     "data": {
      "text/html": [
       "<div>\n",
       "<style scoped>\n",
       "    .dataframe tbody tr th:only-of-type {\n",
       "        vertical-align: middle;\n",
       "    }\n",
       "\n",
       "    .dataframe tbody tr th {\n",
       "        vertical-align: top;\n",
       "    }\n",
       "\n",
       "    .dataframe thead th {\n",
       "        text-align: right;\n",
       "    }\n",
       "</style>\n",
       "<table border=\"1\" class=\"dataframe\">\n",
       "  <thead>\n",
       "    <tr style=\"text-align: right;\">\n",
       "      <th></th>\n",
       "      <th>0</th>\n",
       "      <th>1</th>\n",
       "      <th>2</th>\n",
       "      <th>3</th>\n",
       "      <th>4</th>\n",
       "      <th>5</th>\n",
       "      <th>6</th>\n",
       "      <th>7</th>\n",
       "      <th>8</th>\n",
       "      <th>9</th>\n",
       "      <th>...</th>\n",
       "      <th>990</th>\n",
       "      <th>991</th>\n",
       "      <th>992</th>\n",
       "      <th>993</th>\n",
       "      <th>994</th>\n",
       "      <th>995</th>\n",
       "      <th>996</th>\n",
       "      <th>997</th>\n",
       "      <th>998</th>\n",
       "      <th>999</th>\n",
       "    </tr>\n",
       "  </thead>\n",
       "  <tbody>\n",
       "    <tr>\n",
       "      <th>0</th>\n",
       "      <td>True</td>\n",
       "      <td>False</td>\n",
       "      <td>True</td>\n",
       "      <td>False</td>\n",
       "      <td>True</td>\n",
       "      <td>False</td>\n",
       "      <td>True</td>\n",
       "      <td>False</td>\n",
       "      <td>True</td>\n",
       "      <td>False</td>\n",
       "      <td>...</td>\n",
       "      <td>True</td>\n",
       "      <td>False</td>\n",
       "      <td>True</td>\n",
       "      <td>False</td>\n",
       "      <td>True</td>\n",
       "      <td>False</td>\n",
       "      <td>True</td>\n",
       "      <td>False</td>\n",
       "      <td>True</td>\n",
       "      <td>False</td>\n",
       "    </tr>\n",
       "    <tr>\n",
       "      <th>1</th>\n",
       "      <td>-1</td>\n",
       "      <td>-1</td>\n",
       "      <td>-1</td>\n",
       "      <td>-1</td>\n",
       "      <td>-1</td>\n",
       "      <td>-1</td>\n",
       "      <td>-1</td>\n",
       "      <td>-1</td>\n",
       "      <td>-1</td>\n",
       "      <td>-1</td>\n",
       "      <td>...</td>\n",
       "      <td>-1</td>\n",
       "      <td>-1</td>\n",
       "      <td>-1</td>\n",
       "      <td>-1</td>\n",
       "      <td>-1</td>\n",
       "      <td>-1</td>\n",
       "      <td>-1</td>\n",
       "      <td>-1</td>\n",
       "      <td>-1</td>\n",
       "      <td>-1</td>\n",
       "    </tr>\n",
       "  </tbody>\n",
       "</table>\n",
       "<p>2 rows × 1000 columns</p>\n",
       "</div>"
      ],
      "text/plain": [
       "    0      1     2      3     4      5     6      7     8      9    ...    \\\n",
       "0  True  False  True  False  True  False  True  False  True  False  ...     \n",
       "1    -1     -1    -1     -1    -1     -1    -1     -1    -1     -1  ...     \n",
       "\n",
       "    990    991   992    993   994    995   996    997   998    999  \n",
       "0  True  False  True  False  True  False  True  False  True  False  \n",
       "1    -1     -1    -1     -1    -1     -1    -1     -1    -1     -1  \n",
       "\n",
       "[2 rows x 1000 columns]"
      ]
     },
     "execution_count": 9,
     "metadata": {},
     "output_type": "execute_result"
    }
   ],
   "source": [
    "fill_series2(s)"
   ]
  },
  {
   "cell_type": "code",
   "execution_count": 10,
   "metadata": {
    "collapsed": false,
    "deletable": true,
    "editable": true,
    "scrolled": true
   },
   "outputs": [
    {
     "data": {
      "text/plain": [
       "0      object\n",
       "1      object\n",
       "2      object\n",
       "3      object\n",
       "4      object\n",
       "5      object\n",
       "6      object\n",
       "7      object\n",
       "8      object\n",
       "9      object\n",
       "10     object\n",
       "11     object\n",
       "12     object\n",
       "13     object\n",
       "14     object\n",
       "15     object\n",
       "16     object\n",
       "17     object\n",
       "18     object\n",
       "19     object\n",
       "20     object\n",
       "21     object\n",
       "22     object\n",
       "23     object\n",
       "24     object\n",
       "25     object\n",
       "26     object\n",
       "27     object\n",
       "28     object\n",
       "29     object\n",
       "        ...  \n",
       "970    object\n",
       "971    object\n",
       "972    object\n",
       "973    object\n",
       "974    object\n",
       "975    object\n",
       "976    object\n",
       "977    object\n",
       "978    object\n",
       "979    object\n",
       "980    object\n",
       "981    object\n",
       "982    object\n",
       "983    object\n",
       "984    object\n",
       "985    object\n",
       "986    object\n",
       "987    object\n",
       "988    object\n",
       "989    object\n",
       "990    object\n",
       "991    object\n",
       "992    object\n",
       "993    object\n",
       "994    object\n",
       "995    object\n",
       "996    object\n",
       "997    object\n",
       "998    object\n",
       "999    object\n",
       "Length: 1000, dtype: object"
      ]
     },
     "execution_count": 10,
     "metadata": {},
     "output_type": "execute_result"
    }
   ],
   "source": [
    "fill_series2(s).dtypes"
   ]
  }
 ],
 "metadata": {
  "kernelspec": {
   "display_name": "Python [default]",
   "language": "python",
   "name": "python3"
  },
  "language_info": {
   "codemirror_mode": {
    "name": "ipython",
    "version": 3
   },
   "file_extension": ".py",
   "mimetype": "text/x-python",
   "name": "python",
   "nbconvert_exporter": "python",
   "pygments_lexer": "ipython3",
   "version": "3.5.3"
  }
 },
 "nbformat": 4,
 "nbformat_minor": 2
}
