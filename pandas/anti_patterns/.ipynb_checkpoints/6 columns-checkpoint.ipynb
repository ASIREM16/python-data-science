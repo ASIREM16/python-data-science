{
 "cells": [
  {
   "cell_type": "markdown",
   "metadata": {},
   "source": [
    "## Columns"
   ]
  },
  {
   "cell_type": "code",
   "execution_count": 1,
   "metadata": {
    "collapsed": true,
    "deletable": true,
    "editable": true
   },
   "outputs": [],
   "source": [
    "import pandas as pd"
   ]
  },
  {
   "cell_type": "code",
   "execution_count": 2,
   "metadata": {
    "collapsed": true,
    "deletable": true,
    "editable": true
   },
   "outputs": [],
   "source": [
    "df = pd.DataFrame(index=range(2))"
   ]
  },
  {
   "cell_type": "code",
   "execution_count": 3,
   "metadata": {
    "collapsed": true,
    "deletable": true,
    "editable": true
   },
   "outputs": [],
   "source": [
    "def fill_df1(df):\n",
    "    mydf = df.copy()\n",
    "    for i in range(10000):\n",
    "        mydf[i] = [i, -i]\n",
    "    return mydf"
   ]
  },
  {
   "cell_type": "code",
   "execution_count": 4,
   "metadata": {
    "collapsed": false
   },
   "outputs": [
    {
     "data": {
      "text/html": [
       "<div>\n",
       "<style scoped>\n",
       "    .dataframe tbody tr th:only-of-type {\n",
       "        vertical-align: middle;\n",
       "    }\n",
       "\n",
       "    .dataframe tbody tr th {\n",
       "        vertical-align: top;\n",
       "    }\n",
       "\n",
       "    .dataframe thead th {\n",
       "        text-align: right;\n",
       "    }\n",
       "</style>\n",
       "<table border=\"1\" class=\"dataframe\">\n",
       "  <thead>\n",
       "    <tr style=\"text-align: right;\">\n",
       "      <th></th>\n",
       "      <th>0</th>\n",
       "      <th>1</th>\n",
       "      <th>2</th>\n",
       "      <th>3</th>\n",
       "      <th>4</th>\n",
       "      <th>5</th>\n",
       "      <th>6</th>\n",
       "      <th>7</th>\n",
       "      <th>8</th>\n",
       "      <th>9</th>\n",
       "      <th>...</th>\n",
       "      <th>9990</th>\n",
       "      <th>9991</th>\n",
       "      <th>9992</th>\n",
       "      <th>9993</th>\n",
       "      <th>9994</th>\n",
       "      <th>9995</th>\n",
       "      <th>9996</th>\n",
       "      <th>9997</th>\n",
       "      <th>9998</th>\n",
       "      <th>9999</th>\n",
       "    </tr>\n",
       "  </thead>\n",
       "  <tbody>\n",
       "    <tr>\n",
       "      <th>0</th>\n",
       "      <td>0</td>\n",
       "      <td>1</td>\n",
       "      <td>2</td>\n",
       "      <td>3</td>\n",
       "      <td>4</td>\n",
       "      <td>5</td>\n",
       "      <td>6</td>\n",
       "      <td>7</td>\n",
       "      <td>8</td>\n",
       "      <td>9</td>\n",
       "      <td>...</td>\n",
       "      <td>9990</td>\n",
       "      <td>9991</td>\n",
       "      <td>9992</td>\n",
       "      <td>9993</td>\n",
       "      <td>9994</td>\n",
       "      <td>9995</td>\n",
       "      <td>9996</td>\n",
       "      <td>9997</td>\n",
       "      <td>9998</td>\n",
       "      <td>9999</td>\n",
       "    </tr>\n",
       "    <tr>\n",
       "      <th>1</th>\n",
       "      <td>0</td>\n",
       "      <td>-1</td>\n",
       "      <td>-2</td>\n",
       "      <td>-3</td>\n",
       "      <td>-4</td>\n",
       "      <td>-5</td>\n",
       "      <td>-6</td>\n",
       "      <td>-7</td>\n",
       "      <td>-8</td>\n",
       "      <td>-9</td>\n",
       "      <td>...</td>\n",
       "      <td>-9990</td>\n",
       "      <td>-9991</td>\n",
       "      <td>-9992</td>\n",
       "      <td>-9993</td>\n",
       "      <td>-9994</td>\n",
       "      <td>-9995</td>\n",
       "      <td>-9996</td>\n",
       "      <td>-9997</td>\n",
       "      <td>-9998</td>\n",
       "      <td>-9999</td>\n",
       "    </tr>\n",
       "  </tbody>\n",
       "</table>\n",
       "<p>2 rows × 10000 columns</p>\n",
       "</div>"
      ],
      "text/plain": [
       "   0     1     2     3     4     5     6     7     8     9     ...   9990  \\\n",
       "0     0     1     2     3     4     5     6     7     8     9  ...   9990   \n",
       "1     0    -1    -2    -3    -4    -5    -6    -7    -8    -9  ...  -9990   \n",
       "\n",
       "   9991  9992  9993  9994  9995  9996  9997  9998  9999  \n",
       "0  9991  9992  9993  9994  9995  9996  9997  9998  9999  \n",
       "1 -9991 -9992 -9993 -9994 -9995 -9996 -9997 -9998 -9999  \n",
       "\n",
       "[2 rows x 10000 columns]"
      ]
     },
     "execution_count": 4,
     "metadata": {},
     "output_type": "execute_result"
    }
   ],
   "source": [
    "fill_df1(df)"
   ]
  },
  {
   "cell_type": "code",
   "execution_count": 5,
   "metadata": {
    "collapsed": false,
    "deletable": true,
    "editable": true
   },
   "outputs": [
    {
     "name": "stdout",
     "output_type": "stream",
     "text": [
      "1 loop, best of 3: 4.67 s per loop\n"
     ]
    }
   ],
   "source": [
    "%timeit fill_df1(df)"
   ]
  },
  {
   "cell_type": "code",
   "execution_count": 6,
   "metadata": {
    "collapsed": true,
    "deletable": true,
    "editable": true
   },
   "outputs": [],
   "source": [
    "df2 = pd.DataFrame(index=range(2), columns=range(10000))"
   ]
  },
  {
   "cell_type": "code",
   "execution_count": 7,
   "metadata": {
    "collapsed": false,
    "deletable": true,
    "editable": true
   },
   "outputs": [
    {
     "name": "stdout",
     "output_type": "stream",
     "text": [
      "1 loop, best of 3: 4.8 s per loop\n"
     ]
    }
   ],
   "source": [
    "%timeit fill_df1(df2)"
   ]
  },
  {
   "cell_type": "code",
   "execution_count": 8,
   "metadata": {
    "collapsed": true,
    "deletable": true,
    "editable": true
   },
   "outputs": [],
   "source": [
    "df3 = pd.DataFrame(-1, index=range(2), columns=range(10000))"
   ]
  },
  {
   "cell_type": "code",
   "execution_count": 9,
   "metadata": {
    "collapsed": false,
    "scrolled": true
   },
   "outputs": [
    {
     "data": {
      "text/plain": [
       "0       int64\n",
       "1       int64\n",
       "2       int64\n",
       "3       int64\n",
       "4       int64\n",
       "5       int64\n",
       "6       int64\n",
       "7       int64\n",
       "8       int64\n",
       "9       int64\n",
       "10      int64\n",
       "11      int64\n",
       "12      int64\n",
       "13      int64\n",
       "14      int64\n",
       "15      int64\n",
       "16      int64\n",
       "17      int64\n",
       "18      int64\n",
       "19      int64\n",
       "20      int64\n",
       "21      int64\n",
       "22      int64\n",
       "23      int64\n",
       "24      int64\n",
       "25      int64\n",
       "26      int64\n",
       "27      int64\n",
       "28      int64\n",
       "29      int64\n",
       "        ...  \n",
       "9970    int64\n",
       "9971    int64\n",
       "9972    int64\n",
       "9973    int64\n",
       "9974    int64\n",
       "9975    int64\n",
       "9976    int64\n",
       "9977    int64\n",
       "9978    int64\n",
       "9979    int64\n",
       "9980    int64\n",
       "9981    int64\n",
       "9982    int64\n",
       "9983    int64\n",
       "9984    int64\n",
       "9985    int64\n",
       "9986    int64\n",
       "9987    int64\n",
       "9988    int64\n",
       "9989    int64\n",
       "9990    int64\n",
       "9991    int64\n",
       "9992    int64\n",
       "9993    int64\n",
       "9994    int64\n",
       "9995    int64\n",
       "9996    int64\n",
       "9997    int64\n",
       "9998    int64\n",
       "9999    int64\n",
       "Length: 10000, dtype: object"
      ]
     },
     "execution_count": 9,
     "metadata": {},
     "output_type": "execute_result"
    }
   ],
   "source": [
    "df3.dtypes"
   ]
  },
  {
   "cell_type": "code",
   "execution_count": 10,
   "metadata": {
    "collapsed": false,
    "deletable": true,
    "editable": true
   },
   "outputs": [
    {
     "name": "stdout",
     "output_type": "stream",
     "text": [
      "1 loop, best of 3: 910 ms per loop\n"
     ]
    }
   ],
   "source": [
    "%timeit fill_df1(df3)"
   ]
  },
  {
   "cell_type": "code",
   "execution_count": 11,
   "metadata": {
    "collapsed": true,
    "deletable": true,
    "editable": true
   },
   "outputs": [],
   "source": [
    "df4 = pd.DataFrame(-1.0, index=range(2), columns=range(10000))"
   ]
  },
  {
   "cell_type": "code",
   "execution_count": 12,
   "metadata": {
    "collapsed": false,
    "deletable": true,
    "editable": true
   },
   "outputs": [
    {
     "name": "stdout",
     "output_type": "stream",
     "text": [
      "1 loop, best of 3: 4.4 s per loop\n"
     ]
    }
   ],
   "source": [
    "%timeit fill_df1(df4)"
   ]
  },
  {
   "cell_type": "code",
   "execution_count": 13,
   "metadata": {
    "collapsed": true,
    "deletable": true,
    "editable": true
   },
   "outputs": [],
   "source": [
    "df5 = pd.DataFrame(-1.0, index=range(2), columns=range(10000))"
   ]
  },
  {
   "cell_type": "code",
   "execution_count": 14,
   "metadata": {
    "collapsed": false,
    "deletable": true,
    "editable": true
   },
   "outputs": [
    {
     "data": {
      "text/plain": [
       "(FloatBlock: slice(0, 10000, 1), 10000 x 2, dtype: float64,)"
      ]
     },
     "execution_count": 14,
     "metadata": {},
     "output_type": "execute_result"
    }
   ],
   "source": [
    "df5._data.blocks"
   ]
  },
  {
   "cell_type": "code",
   "execution_count": 15,
   "metadata": {
    "collapsed": true,
    "deletable": true,
    "editable": true
   },
   "outputs": [],
   "source": [
    "df5[0] = [0, 0]"
   ]
  },
  {
   "cell_type": "code",
   "execution_count": 16,
   "metadata": {
    "collapsed": false,
    "deletable": true,
    "editable": true
   },
   "outputs": [
    {
     "data": {
      "text/plain": [
       "(FloatBlock: slice(1, 10000, 1), 9999 x 2, dtype: float64,\n",
       " IntBlock: slice(0, 1, 1), 1 x 2, dtype: int64)"
      ]
     },
     "execution_count": 16,
     "metadata": {},
     "output_type": "execute_result"
    }
   ],
   "source": [
    "df5._data.blocks"
   ]
  },
  {
   "cell_type": "code",
   "execution_count": 17,
   "metadata": {
    "collapsed": true,
    "deletable": true,
    "editable": true
   },
   "outputs": [],
   "source": [
    "df5[1] = [1, -1]"
   ]
  },
  {
   "cell_type": "code",
   "execution_count": 18,
   "metadata": {
    "collapsed": false,
    "deletable": true,
    "editable": true
   },
   "outputs": [
    {
     "data": {
      "text/plain": [
       "(FloatBlock: slice(2, 10000, 1), 9998 x 2, dtype: float64,\n",
       " IntBlock: slice(0, 1, 1), 1 x 2, dtype: int64,\n",
       " IntBlock: slice(1, 2, 1), 1 x 2, dtype: int64)"
      ]
     },
     "execution_count": 18,
     "metadata": {},
     "output_type": "execute_result"
    }
   ],
   "source": [
    "df5._data.blocks"
   ]
  },
  {
   "cell_type": "code",
   "execution_count": 19,
   "metadata": {
    "collapsed": true,
    "deletable": true,
    "editable": true
   },
   "outputs": [],
   "source": [
    "df5[2] = [2, -2]"
   ]
  },
  {
   "cell_type": "code",
   "execution_count": 20,
   "metadata": {
    "collapsed": false,
    "deletable": true,
    "editable": true
   },
   "outputs": [
    {
     "data": {
      "text/plain": [
       "(FloatBlock: slice(3, 10000, 1), 9997 x 2, dtype: float64,\n",
       " IntBlock: slice(0, 1, 1), 1 x 2, dtype: int64,\n",
       " IntBlock: slice(1, 2, 1), 1 x 2, dtype: int64,\n",
       " IntBlock: slice(2, 3, 1), 1 x 2, dtype: int64)"
      ]
     },
     "execution_count": 20,
     "metadata": {},
     "output_type": "execute_result"
    }
   ],
   "source": [
    "df5._data.blocks"
   ]
  },
  {
   "cell_type": "code",
   "execution_count": 21,
   "metadata": {
    "collapsed": false,
    "deletable": true,
    "editable": true,
    "scrolled": true
   },
   "outputs": [],
   "source": [
    "m = df5.max()"
   ]
  },
  {
   "cell_type": "code",
   "execution_count": 22,
   "metadata": {
    "collapsed": false,
    "scrolled": true
   },
   "outputs": [
    {
     "data": {
      "text/plain": [
       "0       0.0\n",
       "1       1.0\n",
       "2       2.0\n",
       "3      -1.0\n",
       "4      -1.0\n",
       "5      -1.0\n",
       "6      -1.0\n",
       "7      -1.0\n",
       "8      -1.0\n",
       "9      -1.0\n",
       "10     -1.0\n",
       "11     -1.0\n",
       "12     -1.0\n",
       "13     -1.0\n",
       "14     -1.0\n",
       "15     -1.0\n",
       "16     -1.0\n",
       "17     -1.0\n",
       "18     -1.0\n",
       "19     -1.0\n",
       "20     -1.0\n",
       "21     -1.0\n",
       "22     -1.0\n",
       "23     -1.0\n",
       "24     -1.0\n",
       "25     -1.0\n",
       "26     -1.0\n",
       "27     -1.0\n",
       "28     -1.0\n",
       "29     -1.0\n",
       "       ... \n",
       "9970   -1.0\n",
       "9971   -1.0\n",
       "9972   -1.0\n",
       "9973   -1.0\n",
       "9974   -1.0\n",
       "9975   -1.0\n",
       "9976   -1.0\n",
       "9977   -1.0\n",
       "9978   -1.0\n",
       "9979   -1.0\n",
       "9980   -1.0\n",
       "9981   -1.0\n",
       "9982   -1.0\n",
       "9983   -1.0\n",
       "9984   -1.0\n",
       "9985   -1.0\n",
       "9986   -1.0\n",
       "9987   -1.0\n",
       "9988   -1.0\n",
       "9989   -1.0\n",
       "9990   -1.0\n",
       "9991   -1.0\n",
       "9992   -1.0\n",
       "9993   -1.0\n",
       "9994   -1.0\n",
       "9995   -1.0\n",
       "9996   -1.0\n",
       "9997   -1.0\n",
       "9998   -1.0\n",
       "9999   -1.0\n",
       "Length: 10000, dtype: float64"
      ]
     },
     "execution_count": 22,
     "metadata": {},
     "output_type": "execute_result"
    }
   ],
   "source": [
    "m"
   ]
  },
  {
   "cell_type": "code",
   "execution_count": 23,
   "metadata": {
    "collapsed": false,
    "deletable": true,
    "editable": true
   },
   "outputs": [
    {
     "data": {
      "text/plain": [
       "(FloatBlock: slice(3, 10000, 1), 9997 x 2, dtype: float64,\n",
       " IntBlock: slice(0, 3, 1), 3 x 2, dtype: int64)"
      ]
     },
     "execution_count": 23,
     "metadata": {},
     "output_type": "execute_result"
    }
   ],
   "source": [
    "df5._data.blocks"
   ]
  },
  {
   "cell_type": "code",
   "execution_count": 24,
   "metadata": {
    "collapsed": true,
    "deletable": true,
    "editable": true
   },
   "outputs": [],
   "source": [
    "def fill_df2(df):\n",
    "    mydf = df.copy()\n",
    "    for i in range(10000):\n",
    "        mydf[i] = [i, -i]\n",
    "        mydf.reset_index(drop=True, inplace=True)\n",
    "    return mydf"
   ]
  },
  {
   "cell_type": "code",
   "execution_count": 25,
   "metadata": {
    "collapsed": true,
    "deletable": true,
    "editable": true
   },
   "outputs": [],
   "source": [
    "df6 = pd.DataFrame(-1.0, index=range(2), columns=range(10000))"
   ]
  },
  {
   "cell_type": "code",
   "execution_count": 26,
   "metadata": {
    "collapsed": false,
    "deletable": true,
    "editable": true
   },
   "outputs": [
    {
     "name": "stdout",
     "output_type": "stream",
     "text": [
      "1 loop, best of 3: 4.24 s per loop\n"
     ]
    }
   ],
   "source": [
    "%timeit fill_df2(df6)"
   ]
  },
  {
   "cell_type": "code",
   "execution_count": 27,
   "metadata": {
    "collapsed": true,
    "deletable": true,
    "editable": true
   },
   "outputs": [],
   "source": [
    "df7 = pd.DataFrame(-1, index=range(2), columns=range(10000))"
   ]
  },
  {
   "cell_type": "code",
   "execution_count": 28,
   "metadata": {
    "collapsed": false,
    "deletable": true,
    "editable": true
   },
   "outputs": [
    {
     "name": "stdout",
     "output_type": "stream",
     "text": [
      "1 loop, best of 3: 1.13 s per loop\n"
     ]
    }
   ],
   "source": [
    "%timeit fill_df2(df7)"
   ]
  },
  {
   "cell_type": "code",
   "execution_count": null,
   "metadata": {},
   "outputs": [],
   "source": []
  }
 ],
 "metadata": {
  "kernelspec": {
   "display_name": "Python [default]",
   "language": "python",
   "name": "python3"
  },
  "language_info": {
   "codemirror_mode": {
    "name": "ipython",
    "version": 3
   },
   "file_extension": ".py",
   "mimetype": "text/x-python",
   "name": "python",
   "nbconvert_exporter": "python",
   "pygments_lexer": "ipython3",
   "version": "3.5.3"
  }
 },
 "nbformat": 4,
 "nbformat_minor": 2
}
